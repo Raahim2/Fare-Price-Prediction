{
 "cells": [
  {
   "cell_type": "code",
   "execution_count": 1,
   "id": "a2407783",
   "metadata": {},
   "outputs": [],
   "source": [
    "import pandas as pd\n",
    "import numpy as np\n",
    "import matplotlib as plt\n",
    "import seaborn as sns"
   ]
  },
  {
   "cell_type": "code",
   "execution_count": 2,
   "id": "f050cc4e",
   "metadata": {},
   "outputs": [],
   "source": [
    "df =  pd.read_csv('Mumbai House Prices.csv')"
   ]
  },
  {
   "cell_type": "code",
   "execution_count": 3,
   "id": "b47351b7",
   "metadata": {},
   "outputs": [],
   "source": [
    "df[\"price_unit\"]= df[\"price_unit\"].replace(\"Cr\" , \"0000000\", regex=True)\n",
    "df[\"price_unit\"]= df[\"price_unit\"].replace(\"L\" , \"00000\", regex=True)"
   ]
  },
  {
   "cell_type": "code",
   "execution_count": 4,
   "id": "fceaca24",
   "metadata": {},
   "outputs": [],
   "source": [
    "df[\"price\"]=df[\"price\"].astype(\"int\")\n",
    "df[\"price_unit\"]=df[\"price_unit\"].astype(\"str\")\n",
    "df[\"price\"]=df[\"price\"].astype(\"str\")\n",
    "\n"
   ]
  },
  {
   "cell_type": "code",
   "execution_count": 5,
   "id": "0f8c1d29",
   "metadata": {},
   "outputs": [],
   "source": [
    "df[\"Total_price\"]=df[\"price\"]+df[\"price_unit\"]"
   ]
  },
  {
   "cell_type": "code",
   "execution_count": 6,
   "id": "4df23d2f",
   "metadata": {
    "scrolled": true
   },
   "outputs": [],
   "source": [
    "df[\"Total_price\"] = df[\"Total_price\"].astype(\"int\")"
   ]
  },
  {
   "cell_type": "code",
   "execution_count": 7,
   "id": "3ee5b287",
   "metadata": {},
   "outputs": [],
   "source": [
    "df= df.drop(\"price\" , axis=1)\n",
    "df= df.drop(\"price_unit\" , axis=1) \n",
    "df= df.drop(\"locality\" , axis=1)    "
   ]
  },
  {
   "cell_type": "code",
   "execution_count": 8,
   "id": "d847a2d3",
   "metadata": {},
   "outputs": [],
   "source": [
    "df[\"status\"]= df[\"status\"].replace(\"Ready to move\" , \"1\", regex=True)\n",
    "df[\"status\"]= df[\"status\"].replace(\"Under Construction\" , \"0\", regex=True)"
   ]
  },
  {
   "cell_type": "code",
   "execution_count": 9,
   "id": "65aec82a",
   "metadata": {},
   "outputs": [],
   "source": [
    "df[\"status\"]= df[\"status\"].astype(\"int\")"
   ]
  },
  {
   "cell_type": "code",
   "execution_count": 10,
   "id": "b6254734",
   "metadata": {},
   "outputs": [],
   "source": [
    "df[\"age\"]= df[\"age\"].replace(\"New\" , \"1\", regex=True)\n",
    "df[\"age\"]= df[\"age\"].replace(\"Resale\" , \"-1\", regex=True)\n",
    "df[\"age\"]= df[\"age\"].replace(\"Unknown\" , \"0\", regex=True)"
   ]
  },
  {
   "cell_type": "code",
   "execution_count": 11,
   "id": "e7daac80",
   "metadata": {},
   "outputs": [],
   "source": [
    "df[\"age\"]=df[\"age\"].astype(int)"
   ]
  },
  {
   "cell_type": "code",
   "execution_count": 12,
   "id": "2d5daf85",
   "metadata": {},
   "outputs": [],
   "source": [
    "df[\"type\"]= df[\"type\"].replace(\"Apartment\" , \"1\", regex=True)\n",
    "df[\"type\"]= df[\"type\"].replace(\"Villa\" , \"2\", regex=True)\n",
    "df[\"type\"]= df[\"type\"].replace(\"Studio 1\" , \"3\", regex=True)\n",
    "df[\"type\"]= df[\"type\"].replace(\"Independent House\" , \"4\", regex=True)\n",
    "df[\"type\"]= df[\"type\"].replace(\"Penthouse\" , \"5\", regex=True)\n"
   ]
  },
  {
   "cell_type": "code",
   "execution_count": 13,
   "id": "f3cf64cb",
   "metadata": {},
   "outputs": [],
   "source": [
    "df[\"type\"] = df[\"type\"].astype(int)"
   ]
  },
  {
   "cell_type": "code",
   "execution_count": 14,
   "id": "4750c24e",
   "metadata": {},
   "outputs": [
    {
     "data": {
      "text/html": [
       "<div>\n",
       "<style scoped>\n",
       "    .dataframe tbody tr th:only-of-type {\n",
       "        vertical-align: middle;\n",
       "    }\n",
       "\n",
       "    .dataframe tbody tr th {\n",
       "        vertical-align: top;\n",
       "    }\n",
       "\n",
       "    .dataframe thead th {\n",
       "        text-align: right;\n",
       "    }\n",
       "</style>\n",
       "<table border=\"1\" class=\"dataframe\">\n",
       "  <thead>\n",
       "    <tr style=\"text-align: right;\">\n",
       "      <th></th>\n",
       "      <th>bhk</th>\n",
       "      <th>type</th>\n",
       "      <th>area</th>\n",
       "      <th>region</th>\n",
       "      <th>status</th>\n",
       "      <th>age</th>\n",
       "      <th>Total_price</th>\n",
       "    </tr>\n",
       "  </thead>\n",
       "  <tbody>\n",
       "    <tr>\n",
       "      <th>0</th>\n",
       "      <td>3</td>\n",
       "      <td>1</td>\n",
       "      <td>685</td>\n",
       "      <td>Andheri West</td>\n",
       "      <td>1</td>\n",
       "      <td>1</td>\n",
       "      <td>20000000</td>\n",
       "    </tr>\n",
       "    <tr>\n",
       "      <th>1</th>\n",
       "      <td>2</td>\n",
       "      <td>1</td>\n",
       "      <td>640</td>\n",
       "      <td>Naigaon East</td>\n",
       "      <td>0</td>\n",
       "      <td>1</td>\n",
       "      <td>5200000</td>\n",
       "    </tr>\n",
       "    <tr>\n",
       "      <th>2</th>\n",
       "      <td>2</td>\n",
       "      <td>1</td>\n",
       "      <td>610</td>\n",
       "      <td>Borivali West</td>\n",
       "      <td>0</td>\n",
       "      <td>1</td>\n",
       "      <td>10000000</td>\n",
       "    </tr>\n",
       "    <tr>\n",
       "      <th>3</th>\n",
       "      <td>2</td>\n",
       "      <td>1</td>\n",
       "      <td>876</td>\n",
       "      <td>Panvel</td>\n",
       "      <td>0</td>\n",
       "      <td>1</td>\n",
       "      <td>5900000</td>\n",
       "    </tr>\n",
       "    <tr>\n",
       "      <th>4</th>\n",
       "      <td>2</td>\n",
       "      <td>1</td>\n",
       "      <td>659</td>\n",
       "      <td>Mira Road East</td>\n",
       "      <td>0</td>\n",
       "      <td>1</td>\n",
       "      <td>9400000</td>\n",
       "    </tr>\n",
       "    <tr>\n",
       "      <th>...</th>\n",
       "      <td>...</td>\n",
       "      <td>...</td>\n",
       "      <td>...</td>\n",
       "      <td>...</td>\n",
       "      <td>...</td>\n",
       "      <td>...</td>\n",
       "      <td>...</td>\n",
       "    </tr>\n",
       "    <tr>\n",
       "      <th>76033</th>\n",
       "      <td>3</td>\n",
       "      <td>1</td>\n",
       "      <td>1527</td>\n",
       "      <td>Juhu</td>\n",
       "      <td>1</td>\n",
       "      <td>0</td>\n",
       "      <td>70000000</td>\n",
       "    </tr>\n",
       "    <tr>\n",
       "      <th>76034</th>\n",
       "      <td>5</td>\n",
       "      <td>1</td>\n",
       "      <td>3049</td>\n",
       "      <td>Juhu</td>\n",
       "      <td>1</td>\n",
       "      <td>0</td>\n",
       "      <td>120000000</td>\n",
       "    </tr>\n",
       "    <tr>\n",
       "      <th>76035</th>\n",
       "      <td>4</td>\n",
       "      <td>1</td>\n",
       "      <td>3313</td>\n",
       "      <td>Napeansea Road</td>\n",
       "      <td>1</td>\n",
       "      <td>0</td>\n",
       "      <td>100000000</td>\n",
       "    </tr>\n",
       "    <tr>\n",
       "      <th>76036</th>\n",
       "      <td>2</td>\n",
       "      <td>1</td>\n",
       "      <td>1305</td>\n",
       "      <td>Bandra East</td>\n",
       "      <td>1</td>\n",
       "      <td>0</td>\n",
       "      <td>40000000</td>\n",
       "    </tr>\n",
       "    <tr>\n",
       "      <th>76037</th>\n",
       "      <td>5</td>\n",
       "      <td>1</td>\n",
       "      <td>5200</td>\n",
       "      <td>Bandra Kurla Complex</td>\n",
       "      <td>1</td>\n",
       "      <td>0</td>\n",
       "      <td>250000000</td>\n",
       "    </tr>\n",
       "  </tbody>\n",
       "</table>\n",
       "<p>76038 rows × 7 columns</p>\n",
       "</div>"
      ],
      "text/plain": [
       "       bhk  type  area                region  status  age  Total_price\n",
       "0        3     1   685          Andheri West       1    1     20000000\n",
       "1        2     1   640          Naigaon East       0    1      5200000\n",
       "2        2     1   610         Borivali West       0    1     10000000\n",
       "3        2     1   876                Panvel       0    1      5900000\n",
       "4        2     1   659        Mira Road East       0    1      9400000\n",
       "...    ...   ...   ...                   ...     ...  ...          ...\n",
       "76033    3     1  1527                  Juhu       1    0     70000000\n",
       "76034    5     1  3049                  Juhu       1    0    120000000\n",
       "76035    4     1  3313        Napeansea Road       1    0    100000000\n",
       "76036    2     1  1305           Bandra East       1    0     40000000\n",
       "76037    5     1  5200  Bandra Kurla Complex       1    0    250000000\n",
       "\n",
       "[76038 rows x 7 columns]"
      ]
     },
     "execution_count": 14,
     "metadata": {},
     "output_type": "execute_result"
    }
   ],
   "source": [
    "df"
   ]
  },
  {
   "cell_type": "code",
   "execution_count": 15,
   "id": "d83047f5",
   "metadata": {},
   "outputs": [],
   "source": [
    "df[\"f1\"]=(df[\"Total_price\"]/df[\"area\"])"
   ]
  },
  {
   "cell_type": "code",
   "execution_count": 16,
   "id": "91171995",
   "metadata": {},
   "outputs": [],
   "source": [
    "df[\"f1\"]=df[\"f1\"].astype(\"int\")"
   ]
  },
  {
   "cell_type": "code",
   "execution_count": 17,
   "id": "6fb34e24",
   "metadata": {},
   "outputs": [
    {
     "data": {
      "text/plain": [
       "<AxesSubplot: >"
      ]
     },
     "execution_count": 17,
     "metadata": {},
     "output_type": "execute_result"
    },
    {
     "data": {
      "image/png": "[encoded data removed]",
      "text/plain": [
       "<Figure size 640x480 with 2 Axes>"
      ]
     },
     "metadata": {},
     "output_type": "display_data"
    }
   ],
   "source": [
    "mat=df.drop(\"region\" , axis=1).corr()\n",
    "sns.heatmap(mat,annot = True)"
   ]
  },
  {
   "cell_type": "code",
   "execution_count": 18,
   "id": "34d947b1",
   "metadata": {},
   "outputs": [],
   "source": [
    "x=df[[\"bhk\",\"area\"]]\n",
    "y=df[[\"Total_price\"]]"
   ]
  },
  {
   "cell_type": "code",
   "execution_count": 19,
   "id": "04a476dd",
   "metadata": {},
   "outputs": [],
   "source": [
    "from sklearn.model_selection import train_test_split"
   ]
  },
  {
   "cell_type": "code",
   "execution_count": 20,
   "id": "78b33619",
   "metadata": {},
   "outputs": [],
   "source": [
    "xtrain,xtest,ytrain,ytest = train_test_split(x, y , test_size =0.2)"
   ]
  },
  {
   "cell_type": "code",
   "execution_count": 21,
   "id": "cd204b02",
   "metadata": {},
   "outputs": [
    {
     "name": "stdout",
     "output_type": "stream",
     "text": [
      "60830 60830 15208 15208\n"
     ]
    }
   ],
   "source": [
    "print(len(xtrain) ,len(ytrain), len(xtest) ,len(ytest))\n"
   ]
  },
  {
   "cell_type": "code",
   "execution_count": 28,
   "id": "d2e66988",
   "metadata": {},
   "outputs": [
    {
     "data": {
      "text/plain": [
       "60.08371534247124"
      ]
     },
     "execution_count": 28,
     "metadata": {},
     "output_type": "execute_result"
    }
   ],
   "source": [
    "from xgboost import XGBRegressor\n",
    "model=XGBRegressor()\n",
    "model.fit(xtrain,ytrain)\n",
    "model.score(xtest,ytest)*100"
   ]
  },
  {
   "cell_type": "code",
   "execution_count": 32,
   "id": "702a25a8",
   "metadata": {},
   "outputs": [
    {
     "data": {
      "text/html": [
       "<div>\n",
       "<style scoped>\n",
       "    .dataframe tbody tr th:only-of-type {\n",
       "        vertical-align: middle;\n",
       "    }\n",
       "\n",
       "    .dataframe tbody tr th {\n",
       "        vertical-align: top;\n",
       "    }\n",
       "\n",
       "    .dataframe thead th {\n",
       "        text-align: right;\n",
       "    }\n",
       "</style>\n",
       "<table border=\"1\" class=\"dataframe\">\n",
       "  <thead>\n",
       "    <tr style=\"text-align: right;\">\n",
       "      <th></th>\n",
       "      <th>bhk</th>\n",
       "      <th>area</th>\n",
       "    </tr>\n",
       "  </thead>\n",
       "  <tbody>\n",
       "    <tr>\n",
       "      <th>15717</th>\n",
       "      <td>1</td>\n",
       "      <td>468</td>\n",
       "    </tr>\n",
       "    <tr>\n",
       "      <th>29829</th>\n",
       "      <td>2</td>\n",
       "      <td>485</td>\n",
       "    </tr>\n",
       "    <tr>\n",
       "      <th>66011</th>\n",
       "      <td>3</td>\n",
       "      <td>2100</td>\n",
       "    </tr>\n",
       "    <tr>\n",
       "      <th>34127</th>\n",
       "      <td>3</td>\n",
       "      <td>1002</td>\n",
       "    </tr>\n",
       "    <tr>\n",
       "      <th>33067</th>\n",
       "      <td>1</td>\n",
       "      <td>550</td>\n",
       "    </tr>\n",
       "    <tr>\n",
       "      <th>...</th>\n",
       "      <td>...</td>\n",
       "      <td>...</td>\n",
       "    </tr>\n",
       "    <tr>\n",
       "      <th>38052</th>\n",
       "      <td>1</td>\n",
       "      <td>460</td>\n",
       "    </tr>\n",
       "    <tr>\n",
       "      <th>30089</th>\n",
       "      <td>2</td>\n",
       "      <td>567</td>\n",
       "    </tr>\n",
       "    <tr>\n",
       "      <th>60976</th>\n",
       "      <td>2</td>\n",
       "      <td>1060</td>\n",
       "    </tr>\n",
       "    <tr>\n",
       "      <th>62042</th>\n",
       "      <td>3</td>\n",
       "      <td>1650</td>\n",
       "    </tr>\n",
       "    <tr>\n",
       "      <th>29209</th>\n",
       "      <td>1</td>\n",
       "      <td>650</td>\n",
       "    </tr>\n",
       "  </tbody>\n",
       "</table>\n",
       "<p>15208 rows × 2 columns</p>\n",
       "</div>"
      ],
      "text/plain": [
       "       bhk  area\n",
       "15717    1   468\n",
       "29829    2   485\n",
       "66011    3  2100\n",
       "34127    3  1002\n",
       "33067    1   550\n",
       "...    ...   ...\n",
       "38052    1   460\n",
       "30089    2   567\n",
       "60976    2  1060\n",
       "62042    3  1650\n",
       "29209    1   650\n",
       "\n",
       "[15208 rows x 2 columns]"
      ]
     },
     "execution_count": 32,
     "metadata": {},
     "output_type": "execute_result"
    }
   ],
   "source": [
    "xtest"
   ]
  },
  {
   "cell_type": "code",
   "execution_count": 37,
   "id": "98a1f7b6",
   "metadata": {},
   "outputs": [
    {
     "data": {
      "text/plain": [
       "array([6771013.], dtype=float32)"
      ]
     },
     "execution_count": 37,
     "metadata": {},
     "output_type": "execute_result"
    }
   ],
   "source": [
    "model.predict([[1,550]])"
   ]
  },
  {
   "cell_type": "code",
   "execution_count": 23,
   "id": "6ce43d86",
   "metadata": {},
   "outputs": [],
   "source": [
    "from joblib import dump"
   ]
  },
  {
   "cell_type": "code",
   "execution_count": 24,
   "id": "37f15d91",
   "metadata": {},
   "outputs": [
    {
     "data": {
      "text/plain": [
       "['mumbai.pkl']"
      ]
     },
     "execution_count": 24,
     "metadata": {},
     "output_type": "execute_result"
    }
   ],
   "source": [
    "dump(model, 'mumbai.pkl')"
   ]
  },
  {
   "cell_type": "code",
   "execution_count": 27,
   "id": "a9338967",
   "metadata": {},
   "outputs": [
    {
     "ename": "TypeError",
     "evalue": "'method' object is not subscriptable",
     "output_type": "error",
     "traceback": [
      "\u001b[1;31m---------------------------------------------------------------------------\u001b[0m",
      "\u001b[1;31mTypeError\u001b[0m                                 Traceback (most recent call last)",
      "Cell \u001b[1;32mIn[27], line 1\u001b[0m\n\u001b[1;32m----> 1\u001b[0m \u001b[43mmodel\u001b[49m\u001b[38;5;241;43m.\u001b[39;49m\u001b[43mpredict\u001b[49m\u001b[43m[\u001b[49m\u001b[43m(\u001b[49m\u001b[38;5;241;43m3\u001b[39;49m\u001b[43m,\u001b[49m\u001b[43m \u001b[49m\u001b[38;5;241;43m500\u001b[39;49m\u001b[43m)\u001b[49m\u001b[43m]\u001b[49m\n",
      "\u001b[1;31mTypeError\u001b[0m: 'method' object is not subscriptable"
     ]
    }
   ],
   "source": []
  },
  {
   "cell_type": "code",
   "execution_count": 25,
   "id": "a9b3aa5b",
   "metadata": {},
   "outputs": [
    {
     "name": "stderr",
     "output_type": "stream",
     "text": [
      "C:\\Users\\MOHMAD\\AppData\\Local\\Temp\\ipykernel_9772\\178391687.py:3: DataConversionWarning: A column-vector y was passed when a 1d array was expected. Please change the shape of y to (n_samples,), for example using ravel().\n",
      "  model3.fit(xtrain,ytrain)\n"
     ]
    },
    {
     "name": "stdout",
     "output_type": "stream",
     "text": [
      "Traning =  77.70335883733763\n",
      "Testing =  67.58362300798387\n"
     ]
    }
   ],
   "source": [
    "from sklearn.ensemble import RandomForestRegressor\n",
    "model3 = RandomForestRegressor()\n",
    "model3.fit(xtrain,ytrain)\n",
    "model3.predict(xtest)\n",
    "print(\"Traning = \",model3.score(xtrain,ytrain)*100)\n",
    "print(\"Testing = \",model3.score(xtest,ytest)*100)\n"
   ]
  }
 ],
 "metadata": {
  "kernelspec": {
   "display_name": "Python 3 (ipykernel)",
   "language": "python",
   "name": "python3"
  },
  "language_info": {
   "codemirror_mode": {
    "name": "ipython",
    "version": 3
   },
   "file_extension": ".py",
   "mimetype": "text/x-python",
   "name": "python",
   "nbconvert_exporter": "python",
   "pygments_lexer": "ipython3",
   "version": "3.10.7"
  }
 },
 "nbformat": 4,
 "nbformat_minor": 5
}
